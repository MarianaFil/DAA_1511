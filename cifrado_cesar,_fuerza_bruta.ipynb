{
  "nbformat": 4,
  "nbformat_minor": 0,
  "metadata": {
    "colab": {
      "provenance": []
    },
    "kernelspec": {
      "name": "python3",
      "display_name": "Python 3"
    },
    "language_info": {
      "name": "python"
    }
  },
  "cells": [
    {
      "cell_type": "code",
      "execution_count": null,
      "metadata": {
        "id": "IZwUbc5hmxXG"
      },
      "outputs": [],
      "source": [
        "texto=input(\"Mensaje: \")\n",
        "\n",
        "caracts='ABCDEFGHIJKLMNÑOPQRSTUVWXYZ'\n",
        "\n",
        "for key in range(len(caracts)):\n",
        "    traducido=''\n",
        "\n",
        "    for elem in texto:\n",
        "        if elem in caracts:\n",
        "            elemIndex=caracts.find(elem)\n",
        "            tradIndex=elemIndex-key\n",
        "\n",
        "            if tradIndex<0:\n",
        "                tradIndex=tradIndex+len(caracts)\n",
        "            traducido=traducido+caracts[tradIndex]\n",
        "        else:\n",
        "            traducido=traducido+elem\n",
        "\n",
        "        if len(traducido)==len(texto):\n",
        "            print('key #%s: %s' % (key, traducido))"
      ]
    }
  ]
}