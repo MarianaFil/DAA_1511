{
  "nbformat": 4,
  "nbformat_minor": 0,
  "metadata": {
    "colab": {
      "name": "25AgostoDAA.ipynb",
      "provenance": [],
      "include_colab_link": true
    },
    "kernelspec": {
      "name": "python3",
      "display_name": "Python 3"
    },
    "language_info": {
      "name": "python"
    }
  },
  "cells": [
    {
      "cell_type": "markdown",
      "metadata": {
        "id": "view-in-github",
        "colab_type": "text"
      },
      "source": [
        "<a href=\"https://colab.research.google.com/github/MarianaFil/DAA_1511/blob/main/25AgostoDAA.ipynb\" target=\"_parent\"><img src=\"https://colab.research.google.com/assets/colab-badge.svg\" alt=\"Open In Colab\"/></a>"
      ]
    },
    {
      "cell_type": "markdown",
      "source": [
        "# Ordenamiento por método de la burbuja"
      ],
      "metadata": {
        "id": "noptygUSw18X"
      }
    },
    {
      "cell_type": "code",
      "execution_count": null,
      "metadata": {
        "colab": {
          "base_uri": "https://localhost:8080/"
        },
        "id": "crFHjLhJwuDE",
        "outputId": "e3c4ee36-47c5-4753-b7cf-404d66c4d86b"
      },
      "outputs": [
        {
          "output_type": "stream",
          "name": "stdout",
          "text": [
            "[1, 4, 5, 8, 9, 10]\n"
          ]
        }
      ],
      "source": [
        "def burbuja( data):\n",
        "    n = len(data)\n",
        "    for iteracion in range( n ):\n",
        "        for pivote in range( n - iteracion - 1):\n",
        "            if data[pivote] > data[pivote +1]:\n",
        "                tmp = data[pivote]\n",
        "                data[pivote]=data[pivote+1]\n",
        "                data[pivote+1]=tmp\n",
        "    print(data)\n",
        "\n",
        "original = [8,1,10,5,9,4]\n",
        "burbuja( original)"
      ]
    },
    {
      "cell_type": "markdown",
      "source": [
        "# Stupid Sort (Bogo sort)"
      ],
      "metadata": {
        "id": "vprobVvfw2eO"
      }
    },
    {
      "cell_type": "code",
      "source": [
        "import random\n",
        "def bogo( data ):\n",
        "    ordenado = False\n",
        "    #print(data)\n",
        "    while not ordenado:\n",
        "        random.shuffle(data)\n",
        "        for pivote in range( len(data)-1):\n",
        "            if data[pivote] <=data[pivote+1]:\n",
        "                ordenado = True\n",
        "            else:\n",
        "                ordenado = False\n",
        "                break\n",
        "    print(\"Final\",data)\n",
        "\n",
        "\n",
        "original = [8,1,10,2]\n",
        "\n",
        "#\n",
        "bogo(original)\n"
      ],
      "metadata": {
        "colab": {
          "base_uri": "https://localhost:8080/"
        },
        "id": "RhrpcsHUw1Ms",
        "outputId": "1a6f6a94-21a9-4af9-845d-d570cf905c9f"
      },
      "execution_count": null,
      "outputs": [
        {
          "output_type": "stream",
          "name": "stdout",
          "text": [
            "Final [1, 2, 8, 10]\n"
          ]
        }
      ]
    }
  ]
}