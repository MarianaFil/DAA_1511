{
  "nbformat": 4,
  "nbformat_minor": 0,
  "metadata": {
    "colab": {
      "name": "tarea_1_Arboles.ipynb",
      "provenance": [],
      "collapsed_sections": []
    },
    "kernelspec": {
      "name": "python3",
      "display_name": "Python 3"
    },
    "language_info": {
      "name": "python"
    }
  },
  "cells": [
    {
      "cell_type": "code",
      "source": [
        "class Nodo:\n",
        "  def __init__(self , value , left = None , center = None , right = None):\n",
        "    self.data = value\n",
        "    self.left = left\n",
        "    self.center = center\n",
        "    self.right = right"
      ],
      "metadata": {
        "id": "KsDaR7TFYyzD"
      },
      "execution_count": 90,
      "outputs": []
    },
    {
      "cell_type": "code",
      "source": [
        "arbol = Nodo(20 , None , Nodo(19 , Nodo(67 , center=Nodo(99)) , None , None) , Nodo(23 , None , Nodo(57) , None))\n",
        "\n",
        "head=arbol.center.left.center.data\n",
        "head1=arbol.right.center.data\n",
        "\n",
        "print(head)\n",
        "print(head1) \n",
        "\n"
      ],
      "metadata": {
        "colab": {
          "base_uri": "https://localhost:8080/"
        },
        "id": "XKg8aItgaz7V",
        "outputId": "3afaa908-bf2e-4d56-ccc8-a78a76dd3370"
      },
      "execution_count": 91,
      "outputs": [
        {
          "output_type": "stream",
          "name": "stdout",
          "text": [
            "99\n",
            "57\n"
          ]
        }
      ]
    },
    {
      "cell_type": "code",
      "source": [
        ""
      ],
      "metadata": {
        "id": "7fn9JcSAfY6I"
      },
      "execution_count": null,
      "outputs": []
    }
  ]
}